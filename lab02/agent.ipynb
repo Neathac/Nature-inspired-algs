{
 "cells": [
  {
   "cell_type": "code",
   "execution_count": 2,
   "metadata": {},
   "outputs": [],
   "source": [
    "import gymnasium as gym\n",
    "import numpy as np\n",
    "import matplotlib.pyplot as plt"
   ]
  },
  {
   "cell_type": "code",
   "execution_count": 70,
   "metadata": {},
   "outputs": [],
   "source": [
    "class StateDiscretizer:\n",
    "  # predani rozmeru prostredi a spojitych stavu a jejich rozdeleni na diskretni intervaly\n",
    "    speed_range = [0, 0]\n",
    "    height_range = [0, 0]\n",
    "    speed_states = []\n",
    "    height_states = []\n",
    "    state_space = []\n",
    "\n",
    "    def __init__(self, high, low):\n",
    "        self.speed_range[1] = high[1]\n",
    "        self.height_range[1] = high[0]\n",
    "        self.speed_range[0] = low[1]\n",
    "        self.height_range[0] = low[0]\n",
    "\n",
    "        for i in np.arange(self.speed_range[0], self.speed_range[1], 0.01):\n",
    "            self.speed_states.append(i)\n",
    "        for i in np.arange(self.height_range[0], self.height_range[1], 0.01):\n",
    "            self.height_states.append(i)\n",
    "\n",
    "        self.state_space = np.empty([len(self.height_states), len(self.speed_states)], dtype=tuple)\n",
    "        for i in range(len(self.height_states)):\n",
    "            for j in range(len(self.speed_states)):\n",
    "                self.state_space[i, j] = (self.height_states[i], self.speed_states[j])\n",
    "    \n",
    "    def get_state_space(self):\n",
    "        return self.state_space\n",
    "\n",
    "    \n",
    "    # prirazeni stavu do spravneho intervalu\n",
    "    def transform(self, obs):\n",
    "        speed = np.abs(self.speed_states - obs[1]).argmin\n",
    "        height = np.abs(self.height_states - obs[0]).argmin\n",
    "        pass\n",
    "        \n",
    "class QLearningAgent:\n",
    "    # nastaveni moznych akci - L, N, R   \n",
    "    # diskretizace stavu prostredi\n",
    "    # definice matice uzitku Q[stavy, akce]\n",
    "    # promenna na zapamatovani si minuleho stavu a minule akce\n",
    "    # donastaveni dalsich parametru trenovani\n",
    "    def __init__(self, actions, state_transformer, train=True):\n",
    "        pass\n",
    "    \n",
    "    # na zaklade stavu a akce se vybira nova akce\n",
    "    # 1. najde se nejlepsi akce pro dany stav\n",
    "    # 2. s malou pravd. vezme nahodnou\n",
    "    # 3. updatuje se Q matice\n",
    "    def act(self, observe, reward, done):\n",
    "        np.random()\n",
    "        pass\n",
    "\n",
    "    # reset minuleho stavu a akce na konci epizody\n",
    "    def reset(self):\n",
    "        pass"
   ]
  },
  {
   "cell_type": "code",
   "execution_count": 71,
   "metadata": {},
   "outputs": [
    {
     "name": "stdout",
     "output_type": "stream",
     "text": [
      "observation space: Box([-1.2  -0.07], [0.6  0.07], (2,), float32)\n",
      "observation space low: [-1.2  -0.07]\n",
      "observation space high: [0.6  0.07]\n",
      "action space: Discrete(3)\n"
     ]
    }
   ],
   "source": [
    "env = gym.make('MountainCar-v0')\n",
    "print('observation space:', env.observation_space)\n",
    "print('observation space low:', env.observation_space.low)\n",
    "print('observation space high:', env.observation_space.high)\n",
    "print('action space:', env.action_space)\n",
    "observation, info = env.reset(seed=42)\n",
    "for _ in range(100):\n",
    "   action = env.action_space.sample()\n",
    "   observation, reward, terminated, truncated, info = env.step(action)\n",
    "\n",
    "   if terminated or truncated:\n",
    "      observation, info = env.reset()\n",
    "env.close()"
   ]
  },
  {
   "cell_type": "code",
   "execution_count": 73,
   "metadata": {},
   "outputs": [
    {
     "name": "stdout",
     "output_type": "stream",
     "text": [
      "[[(-1.2000000476837158, -0.07000000029802322)\n",
      "  (-1.2000000476837158, -0.06000000029802322)\n",
      "  (-1.2000000476837158, -0.05000000029802322) ...\n",
      "  (-1.2000000476837158, 0.0499999997019768)\n",
      "  (-1.2000000476837158, 0.05999999970197681)\n",
      "  (-1.2000000476837158, 0.06999999970197679)]\n",
      " [(-1.1900000476837158, -0.07000000029802322)\n",
      "  (-1.1900000476837158, -0.06000000029802322)\n",
      "  (-1.1900000476837158, -0.05000000029802322) ...\n",
      "  (-1.1900000476837158, 0.0499999997019768)\n",
      "  (-1.1900000476837158, 0.05999999970197681)\n",
      "  (-1.1900000476837158, 0.06999999970197679)]\n",
      " [(-1.1800000476837158, -0.07000000029802322)\n",
      "  (-1.1800000476837158, -0.06000000029802322)\n",
      "  (-1.1800000476837158, -0.05000000029802322) ...\n",
      "  (-1.1800000476837158, 0.0499999997019768)\n",
      "  (-1.1800000476837158, 0.05999999970197681)\n",
      "  (-1.1800000476837158, 0.06999999970197679)]\n",
      " ...\n",
      " [(0.5799999523162858, -0.07000000029802322)\n",
      "  (0.5799999523162858, -0.06000000029802322)\n",
      "  (0.5799999523162858, -0.05000000029802322) ...\n",
      "  (0.5799999523162858, 0.0499999997019768)\n",
      "  (0.5799999523162858, 0.05999999970197681)\n",
      "  (0.5799999523162858, 0.06999999970197679)]\n",
      " [(0.5899999523162858, -0.07000000029802322)\n",
      "  (0.5899999523162858, -0.06000000029802322)\n",
      "  (0.5899999523162858, -0.05000000029802322) ...\n",
      "  (0.5899999523162858, 0.0499999997019768)\n",
      "  (0.5899999523162858, 0.05999999970197681)\n",
      "  (0.5899999523162858, 0.06999999970197679)]\n",
      " [(0.5999999523162858, -0.07000000029802322)\n",
      "  (0.5999999523162858, -0.06000000029802322)\n",
      "  (0.5999999523162858, -0.05000000029802322) ...\n",
      "  (0.5999999523162858, 0.0499999997019768)\n",
      "  (0.5999999523162858, 0.05999999970197681)\n",
      "  (0.5999999523162858, 0.06999999970197679)]]\n"
     ]
    }
   ],
   "source": [
    "transformer = StateDiscretizer(env.observation_space.high, env.observation_space.low)\n",
    "print(transformer.get_state_space())"
   ]
  }
 ],
 "metadata": {
  "kernelspec": {
   "display_name": "venv",
   "language": "python",
   "name": "venv"
  },
  "language_info": {
   "codemirror_mode": {
    "name": "ipython",
    "version": 3
   },
   "file_extension": ".py",
   "mimetype": "text/x-python",
   "name": "python",
   "nbconvert_exporter": "python",
   "pygments_lexer": "ipython3",
   "version": "3.10.4"
  },
  "orig_nbformat": 4,
  "vscode": {
   "interpreter": {
    "hash": "a5bc51c57937139e8fe6267605f6d0ab67cc5357af67af51e19a2944db27f086"
   }
  }
 },
 "nbformat": 4,
 "nbformat_minor": 2
}
