{
 "cells": [
  {
   "cell_type": "code",
   "execution_count": 5,
   "metadata": {},
   "outputs": [],
   "source": [
    "from typing import Callable\n",
    "import random"
   ]
  },
  {
   "cell_type": "code",
   "execution_count": 6,
   "metadata": {},
   "outputs": [],
   "source": [
    "CX_PROB = 0.8\n",
    "MUT_PROB = 0.5"
   ]
  },
  {
   "cell_type": "code",
   "execution_count": 7,
   "metadata": {},
   "outputs": [],
   "source": [
    "def random_individual(ind_len: int = 50):\n",
    "    return [random.randint(0,1) for _ in range(ind_len)]"
   ]
  },
  {
   "cell_type": "code",
   "execution_count": 8,
   "metadata": {},
   "outputs": [],
   "source": [
    "def fitness(ind):\n",
    "    return sum(ind)"
   ]
  },
  {
   "cell_type": "code",
   "execution_count": 9,
   "metadata": {},
   "outputs": [],
   "source": [
    "def alternatingFitness(ind):\n",
    "    result = 0\n",
    "    first = ind[0]\n",
    "    for index, letter in enumerate(ind):\n",
    "        if index % 2 == 0:\n",
    "            if letter == first:\n",
    "                result += 1\n",
    "        else:\n",
    "            if letter != first:\n",
    "                result += 1\n",
    "    return result"
   ]
  },
  {
   "cell_type": "code",
   "execution_count": 10,
   "metadata": {},
   "outputs": [],
   "source": [
    "def crossover(p1, p2):\n",
    "    split = random.randrange(0, len(p1))\n",
    "    return (p1[:split] + p2[split:]) (p2[:split] + p1[split:]) "
   ]
  },
  {
   "cell_type": "code",
   "execution_count": 1603,
   "metadata": {},
   "outputs": [],
   "source": [
    "def nPointCrossover(ind1, ind2, n: int = 1):\n",
    "    lastInd = 0\n",
    "    res1, res2 = ind1[:], ind2[:]\n",
    "    for index in range(n):\n",
    "        split = random.randrange(lastInd, (len(ind1) - n + (index+1)))\n",
    "        if index % 2 == 0:\n",
    "            res1[lastInd:split] = ind1[lastInd:split]\n",
    "            res1[split:] = ind2[split:]\n",
    "            res2[lastInd:split] = ind2[lastInd:split]\n",
    "            res2[split:] = ind1[split:]\n",
    "        else:\n",
    "            res2[lastInd:split] = ind1[lastInd:split]\n",
    "            res2[split:] = ind2[split:]\n",
    "            res1[lastInd:split] = ind2[lastInd:split]\n",
    "            res1[split:] = ind1[split:]\n",
    "        lastInd = split + 1\n",
    "    return res1, res2"
   ]
  },
  {
   "cell_type": "code",
   "execution_count": 1741,
   "metadata": {},
   "outputs": [],
   "source": [
    "def mutation(p1, mut_prob_per_bit: float, mut_prob: float = 0.5):\n",
    "    if random.random() < mut_prob:\n",
    "        return [1-g if random.random() < mut_prob_per_bit else g for g in p1]\n",
    "    else:\n",
    "        return p1[:]"
   ]
  },
  {
   "cell_type": "code",
   "execution_count": null,
   "metadata": {},
   "outputs": [],
   "source": [
    "def swappingMutation(p1, mut_prob: float = 0.5):\n",
    "    if random.random() < mut_prob:\n",
    "        ind1 = random.randrange(0, len(p1)-3)\n",
    "        ind2 = random.randrange(ind1, len(p1)-2)\n",
    "        ind3 = random.randrange(ind2, len(p1)-1)\n",
    "        ind4 = random.randrange(ind3, len(p1))\n",
    "        seg1 = p1[0:ind1]\n",
    "        seg2 = p1[ind1:ind2]\n",
    "        seg3 = p1[ind2:ind3]\n",
    "        seg4 = p1[ind3:ind4]\n",
    "        seg5 = p1[ind4:]\n",
    "        return seg1 + seg4 + seg3 + seg2 + seg5\n",
    "    else:\n",
    "        return p1[:]"
   ]
  },
  {
   "cell_type": "code",
   "execution_count": 1742,
   "metadata": {},
   "outputs": [],
   "source": [
    "def select(pop, fits, N):\n",
    "    return random.choices(pop, fits, k=N)"
   ]
  },
  {
   "cell_type": "code",
   "execution_count": 1743,
   "metadata": {},
   "outputs": [],
   "source": [
    "def basicIteration(population: list, mutation: Callable, crossover: Callable, selection: Callable, fitness: Callable, iternum: int = 1000) -> list:\n",
    "    log = []\n",
    "    for _ in range(iternum):\n",
    "        fitnesses = [fitness(i) for i in population]\n",
    "        best = max(population, key=fitness)\n",
    "        offspring = []\n",
    "        log.append(max(fitnesses))\n",
    "        mating_pool = selection(population, fitnesses, len(population))\n",
    "        for p1, p2 in zip(mating_pool[::2], mating_pool[1::2]):\n",
    "            o1, o2 = crossover(p1, p2)\n",
    "            o1 = mutation(o1)\n",
    "            o2 = mutation(o2)\n",
    "            offspring.append(o1)\n",
    "            offspring.append(o2)\n",
    "        population = offspring[:]\n",
    "        population[0] = best\n",
    "    return population"
   ]
  }
 ],
 "metadata": {
  "kernelspec": {
   "display_name": "venv",
   "language": "python",
   "name": "python3"
  },
  "language_info": {
   "codemirror_mode": {
    "name": "ipython",
    "version": 3
   },
   "file_extension": ".py",
   "mimetype": "text/x-python",
   "name": "python",
   "nbconvert_exporter": "python",
   "pygments_lexer": "ipython3",
   "version": "3.10.4"
  },
  "orig_nbformat": 4
 },
 "nbformat": 4,
 "nbformat_minor": 2
}
