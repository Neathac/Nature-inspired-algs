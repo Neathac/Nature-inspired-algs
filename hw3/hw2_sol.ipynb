{
 "cells": [
  {
   "cell_type": "code",
   "execution_count": 4,
   "metadata": {},
   "outputs": [],
   "source": [
    "from collections import namedtuple\n",
    "import math\n",
    "import functools\n",
    "import numpy as np\n",
    "import csv\n",
    "import pprint\n",
    "import random\n",
    "import xml.etree.ElementTree as ET\n",
    "\n",
    "%matplotlib inline\n",
    "import matplotlib.pyplot as plt\n",
    "from matplotlib import collections as mc"
   ]
  },
  {
   "attachments": {},
   "cell_type": "markdown",
   "metadata": {},
   "source": [
    "We start off by shamelessly stealing the general structure of our solutiou out of the lab."
   ]
  },
  {
   "cell_type": "code",
   "execution_count": 5,
   "metadata": {},
   "outputs": [],
   "source": [
    "Vertex = namedtuple('Vertex', ['id', 'x', 'y', 'order'])"
   ]
  },
  {
   "cell_type": "code",
   "execution_count": 6,
   "metadata": {},
   "outputs": [],
   "source": [
    "@functools.lru_cache(maxsize=None)\n",
    "def distance(v1, v2):\n",
    "    return math.sqrt((v1.x - v2.x)**2+(v1.y - v2.y)**2)"
   ]
  },
  {
   "cell_type": "code",
   "execution_count": 7,
   "metadata": {},
   "outputs": [],
   "source": [
    "def fitness(vertices, distance, solution):\n",
    "    solution_distance = 0\n",
    "    for x, y in zip(solution, solution[1:]):\n",
    "        solution_distance += distance(vertices[x], vertices[y])\n",
    "    solution_distance += distance(vertices[solution[-1]], vertices[solution[0]])\n",
    "    return solution_distance"
   ]
  },
  {
   "cell_type": "code",
   "execution_count": 8,
   "metadata": {},
   "outputs": [],
   "source": [
    "def initialize_pheromone(N):\n",
    "    return 0.01*np.ones(shape=(N,N))\n",
    "\n",
    "def update_pheromone(pheromones_array, solutions, fits, Q=100, rho=0.6):\n",
    "    pheromone_update = np.zeros(shape=pheromones_array.shape)\n",
    "    for solution, fit in zip(solutions, fits):\n",
    "        for x, y in zip(solution, solution[1:]):\n",
    "            pheromone_update[x][y] += Q/fit\n",
    "        pheromone_update[solution[-1]][solution[0]] += Q/fit\n",
    "    \n",
    "    return (1-rho)*pheromones_array + pheromone_update"
   ]
  },
  {
   "cell_type": "code",
   "execution_count": 9,
   "metadata": {},
   "outputs": [],
   "source": [
    "def generate_solutions(vertices, pheromones, distance, N, alpha=1, beta=3):\n",
    "    \n",
    "    def compute_prob(v1, v2):\n",
    "        dist = 1/distance(vertices[v1], vertices[v2])\n",
    "        tau = pheromones[v1, v2]\n",
    "        ret = pow(tau, alpha) * pow(dist,beta)\n",
    "        return ret if ret > 0.000001 else 0.000001\n",
    "\n",
    "    pheromones_shape = pheromones.shape[0]\n",
    "    for i in range(N):\n",
    "        available = list(range(pheromones_shape))\n",
    "        solution = [np.random.randint(0, pheromones_shape)]\n",
    "        available.remove(solution[0])\n",
    "        while available:\n",
    "            probs = np.array(list(map(lambda x: compute_prob(solution[-1], x), available)))\n",
    "            selected = np.random.choice(available, p=probs/sum(probs)) # vyber hrany\n",
    "            solution.append(selected)\n",
    "            available.remove(selected)\n",
    "        yield solution"
   ]
  },
  {
   "cell_type": "code",
   "execution_count": 10,
   "metadata": {},
   "outputs": [],
   "source": [
    "def ant_solver(vertices, distance, ants=10, max_iterations=1000, alpha=1, beta=3, Q=100, rho=0.8):\n",
    "    pheromones = initialize_pheromone(len(vertices))\n",
    "    best_solution = None\n",
    "    best_fitness = float('inf')\n",
    "    \n",
    "    for i in range(max_iterations):\n",
    "        solutions = list(generate_solutions(vertices, pheromones, distance, ants, alpha=alpha, beta=beta))\n",
    "        fits = list(map(lambda x: fitness(vertices, distance, x), solutions))\n",
    "        pheromones = update_pheromone(pheromones, solutions, fits, Q=Q, rho=rho)\n",
    "        \n",
    "        for s, f in zip(solutions, fits):\n",
    "            if f < best_fitness:\n",
    "                best_fitness = f\n",
    "                best_solution = s\n",
    "        \n",
    "        print(f'{i:4}, {np.min(fits):.4f}, {np.mean(fits):.4f}, {np.max(fits):.4f}')\n",
    "    return best_solution, pheromones"
   ]
  },
  {
   "cell_type": "code",
   "execution_count": null,
   "metadata": {},
   "outputs": [],
   "source": [
    "def read_xml_data(file_path):\n",
    "    tree = ET.parse(file_path)\n",
    "    root = tree.getroot()\n",
    "\n",
    "    nodes = root.find('network').find('nodes')\n",
    "    fleet = root.find('fleet')\n",
    "    requests = root.find('requests')\n",
    "\n",
    "    paired_requests = {}\n",
    "    verticies = []\n",
    "    depo = None\n",
    "\n",
    "    for request in requests.findall('request'):\n",
    "        node = int(request.get('node'))\n",
    "        found = paired_requests.get(node, 0)\n",
    "        paired_requests[node] = found+float(request.find('quantity').text)\n",
    "    \n",
    "    for node in nodes.findall('node'):\n",
    "        type_of_node = int(node.get('type'))\n",
    "        id = node.get('id')\n",
    "        \n",
    "        if type_of_node == 1:\n",
    "            verticies.append(Vertex(id, float(node.find('cx').text), float(node.find('cy').text), paired_requests.get(id, 0)))\n",
    "        else:\n",
    "            depo = Vertex(id, float(node.find('cx').text), float(node.find('cy').text), 0)\n",
    "    \n",
    "    capacity = float(fleet.find('vehicle_profile').find('capacity').text)\n",
    "    return verticies, depo, capacity, paired_requests"
   ]
  },
  {
   "cell_type": "code",
   "execution_count": null,
   "metadata": {},
   "outputs": [],
   "source": [
    "def draw_result(vertices, pheromones, best_solution):\n",
    "    lines = []\n",
    "    colors = []\n",
    "    for i, v1 in enumerate(vertices):\n",
    "        for j, v2 in enumerate(vertices):\n",
    "            lines.append([(v1.x, v1.y), (v2.x, v2.y)])\n",
    "            colors.append(pheromones[i][j])\n",
    "\n",
    "    lc = mc.LineCollection(lines, linewidths=np.array(colors))\n",
    "\n",
    "    plt.figure(figsize=(12, 8))\n",
    "    ax = plt.gca()\n",
    "    ax.add_collection(lc)\n",
    "    ax.autoscale()\n",
    "\n",
    "    solution = best_solution\n",
    "\n",
    "    # tady muzeme zkouset vliv jednotlivych parametru na vygenerovane reseni\n",
    "    # solution = list(generate_solutions(vertices, pheromones, distance, N=1, alpha=3, beta=1))[0]\n",
    "\n",
    "    print('Fitness: ', fitness(vertices, distance, solution))\n",
    "\n",
    "    solution_vertices = [vertices[i] for i in solution]\n",
    "    pprint.pprint(solution_vertices)\n",
    "\n",
    "    solution_lines = []\n",
    "    for i, j in zip(solution, solution[1:]):\n",
    "        solution_lines.append([(vertices[i].x, vertices[i].y), (vertices[j].x, vertices[j].y)])\n",
    "    solution_lines.append([(vertices[solution[-1]].x, vertices[solution[-1]].y), (vertices[solution[0]].x, vertices[solution[0]].y)])\n",
    "    solutions_lc = mc.LineCollection(solution_lines, colors='red')\n",
    "    ax.add_collection(solutions_lc)"
   ]
  }
 ],
 "metadata": {
  "kernelspec": {
   "display_name": "venv",
   "language": "python",
   "name": "python3"
  },
  "language_info": {
   "codemirror_mode": {
    "name": "ipython",
    "version": 3
   },
   "file_extension": ".py",
   "mimetype": "text/x-python",
   "name": "python",
   "nbconvert_exporter": "python",
   "pygments_lexer": "ipython3",
   "version": "3.10.4"
  },
  "orig_nbformat": 4
 },
 "nbformat": 4,
 "nbformat_minor": 2
}
