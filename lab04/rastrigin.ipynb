{
 "cells": [
  {
   "cell_type": "code",
   "execution_count": 2,
   "metadata": {},
   "outputs": [],
   "source": [
    "from deap import base\n",
    "from deap import creator\n",
    "from deap import tools\n",
    "from deap import algorithms\n",
    "import numpy as np\n",
    "import random\n",
    "import copy\n",
    "import math\n",
    "%matplotlib inline\n",
    "import matplotlib.pyplot as plt"
   ]
  },
  {
   "cell_type": "code",
   "execution_count": null,
   "metadata": {},
   "outputs": [],
   "source": [
    "def mutation_normal(pop, individual_mut_prob=0.2, sigma=1):\n",
    "    new_pop = []\n",
    "    for j in range(len(pop)):\n",
    "        individual = copy.deepcopy(pop[j])\n",
    "        if random.random() < individual_mut_prob:\n",
    "            for i in range(len(individual)):\n",
    "                if random.random() < individual_mut_prob:\n",
    "                    individual[i] += np.random.normal(loc= 0, scale=sigma, size=1)\n",
    "        new_pop.append(individual)\n",
    "    return new_pop"
   ]
  },
  {
   "cell_type": "code",
   "execution_count": null,
   "metadata": {},
   "outputs": [],
   "source": [
    "def mutation_one_over_five(pop, fitnesses, sigma, individual_mut_prob=0.2):\n",
    "    new_pop = []\n",
    "    for j in range(len(pop)):\n",
    "        individual = copy.deepcopy(pop[j])\n",
    "        if random.random() < individual_mut_prob:\n",
    "            for i in range(len(individual)):\n",
    "                if random.random() < individual_mut_prob:\n",
    "                    individual[i] += np.random.normal(loc= 0, scale=sigma[j], size=1)\n",
    "                    better_fitnesses = fitnesses > fitnesses[j]\n",
    "                    sigma[j] = sigma[j] * np.exp((len(better_fitnesses)/len(fitnesses))-(1/5))\n",
    "        new_pop.append(individual)\n",
    "    return new_pop, sigma"
   ]
  },
  {
   "cell_type": "code",
   "execution_count": null,
   "metadata": {},
   "outputs": [],
   "source": [
    "def mutation_differential(pop, sigma, individual_mut_prob=0.2):\n",
    "    new_pop = []\n",
    "    for j in range(len(pop)):\n",
    "        individual = copy.deepcopy(pop[j])\n",
    "        if random.random() < individual_mut_prob:\n",
    "            diff = (random.choice(pop) - random.choice(pop)) * 0.8\n",
    "            individual += diff\n",
    "        new_pop.append(individual)\n",
    "    return new_pop"
   ]
  }
 ],
 "metadata": {
  "kernelspec": {
   "display_name": "venv",
   "language": "python",
   "name": "python3"
  },
  "language_info": {
   "codemirror_mode": {
    "name": "ipython",
    "version": 3
   },
   "file_extension": ".py",
   "mimetype": "text/x-python",
   "name": "python",
   "nbconvert_exporter": "python",
   "pygments_lexer": "ipython3",
   "version": "3.10.4"
  },
  "orig_nbformat": 4
 },
 "nbformat": 4,
 "nbformat_minor": 2
}
